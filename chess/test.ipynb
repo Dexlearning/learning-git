{
 "cells": [
  {
   "cell_type": "code",
   "execution_count": null,
   "metadata": {},
   "outputs": [],
   "source": [
    "pygame.draw.line(screen,black,(0,0),(100,100),5)\n",
    "\n",
    "pygame.draw.rect(screen,black,(0,100,50,100))\n",
    "\n",
    "pygame.draw.circle(screen,black,(0,100),50,5)"
   ]
  },
  {
   "cell_type": "code",
   "execution_count": 28,
   "metadata": {},
   "outputs": [
    {
     "name": "stdout",
     "output_type": "stream",
     "text": [
      "rook = pygame.image.load('images/black pawn.png')\n",
      "rook = pygame.transform.scale(rook, (80,80))\n",
      "rook_rect = rook.get_rect()\n",
      "pawn = pygame.image.load('images/black pawn.png')\n",
      "pawn = pygame.transform.scale(pawn, (80,80))\n",
      "pawn_rect = pawn.get_rect()\n"
     ]
    }
   ],
   "source": [
    "pieces = ['rook','pawn']\n",
    "name = 'obj'\n",
    "str = \"\"\"obj = pygame.image.load('images/black pawn.png')\n",
    "obj = pygame.transform.scale(obj, (80,80))\n",
    "obj_rect = obj.get_rect()\"\"\"\n",
    "\n",
    "for i in pieces:\n",
    "   r = str.replace(name, i)\n",
    "   print(r)\n",
    "\n",
    "\n"
   ]
  },
  {
   "cell_type": "code",
   "execution_count": 25,
   "metadata": {},
   "outputs": [
    {
     "name": "stdout",
     "output_type": "stream",
     "text": [
      "<class 'int'>\n"
     ]
    }
   ],
   "source": [
    "import random\n",
    "x = [100,200,300,400,500,600]\n",
    "r = random.choices(x)\n",
    "r = r[0]\n",
    "# r= int(r)\n",
    "print(type(r))"
   ]
  },
  {
   "cell_type": "code",
   "execution_count": 29,
   "metadata": {},
   "outputs": [],
   "source": [
    "import pygame\n",
    "\n",
    "pygame.init()\n",
    "\n",
    "# กำหนดขนาดหน้าจอ\n",
    "screen_width = 800\n",
    "screen_height = 600\n",
    "screen = pygame.display.set_mode((screen_width, screen_height))\n",
    "pygame.display.set_caption(\"Click on Image\")\n",
    "\n",
    "# สี\n",
    "green = (0, 255, 0)\n",
    "\n",
    "class Click_image:\n",
    "    def __init__(self):\n",
    "        self.clicked = False\n",
    "        king = pygame.image.load('images/black king.png')\n",
    "        self.king = pygame.transform.scale(king, (80, 80))\n",
    "        self.king_rect = self.king.get_rect()\n",
    "        rook = pygame.image.load('images/black pawn.png')\n",
    "        self.rook = pygame.transform.scale(rook, (80, 80))\n",
    "        self.rook_rect = self.rook.get_rect()\n",
    "        pawn = pygame.image.load('images/black pawn.png')\n",
    "        self.pawn = pygame.transform.scale(pawn, (80, 80))\n",
    "        self.pawn_rect = self.pawn.get_rect()\n",
    "\n",
    "    def click(self, event):  # เพิ่มพารามิเตอร์ event\n",
    "        if event.type == pygame.MOUSEBUTTONDOWN:\n",
    "            if self.king_rect.collidepoint(event.pos):\n",
    "                self.clicked = not self.clicked\n",
    "            if self.clicked:\n",
    "                self.king_rect.center = event.pos  # ไม่ต้องใส่ [0] และ [1] เพราะ event.pos เป็น tuple (x, y)\n",
    "\n",
    "    def update(self):\n",
    "        screen.blit(self.king, self.king_rect)\n",
    "\n",
    "# สร้างอ็อบเจ็กต์ของคลาส Click_image\n",
    "click_image = Click_image()\n",
    "\n",
    "running = True\n",
    "while running:\n",
    "    for event in pygame.event.get():\n",
    "        if event.type == pygame.QUIT:\n",
    "            running = False\n",
    "\n",
    "        # เรียกใช้ฟังก์ชัน click ของ click_image และส่ง event เข้าไป\n",
    "        click_image.click(event)\n",
    "\n",
    "    # เคลียร์หน้าจอ\n",
    "    screen.fill((255, 255, 255))\n",
    "\n",
    "    # วาดผู้เล่นบนหน้าจอ\n",
    "    click_image.update()\n",
    "\n",
    "    pygame.display.flip()\n",
    "\n",
    "pygame.quit()\n"
   ]
  },
  {
   "cell_type": "code",
   "execution_count": 28,
   "metadata": {},
   "outputs": [
    {
     "name": "stdout",
     "output_type": "stream",
     "text": [
      "76>70>1\n"
     ]
    }
   ],
   "source": [
    "import random\n",
    "r = random.randint(1, 100)\n",
    "t1 = 1\n",
    "t2 = 70\n",
    "\n",
    "if r > t1 and r > t2:\n",
    "   if t1 > t2:\n",
    "      print(f'{r}>{t1}>{t2}')\n",
    "   else:\n",
    "      print(f'{r}>{t2}>{t1}')\n",
    "elif r < t1 and r < t2:\n",
    "   if t1 < t2:\n",
    "      print(f'{t1}>{t2}>{r}')\n",
    "   else:\n",
    "      print(f'{t2}>{t1}>{r}')\n",
    "else :\n",
    "   if t1 > t2:\n",
    "      print(f'{t1}>{r}>{t2}')\n",
    "   else :\n",
    "      print(f'{t2}>{r}>{t1}')"
   ]
  },
  {
   "cell_type": "code",
   "execution_count": 1,
   "metadata": {},
   "outputs": [
    {
     "name": "stdout",
     "output_type": "stream",
     "text": [
      "12345\n"
     ]
    }
   ],
   "source": [
    "print(12345)"
   ]
  }
 ],
 "metadata": {
  "kernelspec": {
   "display_name": "Python 3",
   "language": "python",
   "name": "python3"
  },
  "language_info": {
   "codemirror_mode": {
    "name": "ipython",
    "version": 3
   },
   "file_extension": ".py",
   "mimetype": "text/x-python",
   "name": "python",
   "nbconvert_exporter": "python",
   "pygments_lexer": "ipython3",
   "version": "3.11.5"
  },
  "orig_nbformat": 4
 },
 "nbformat": 4,
 "nbformat_minor": 2
}
